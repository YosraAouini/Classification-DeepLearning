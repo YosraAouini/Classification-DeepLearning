{
 "cells": [
  {
   "cell_type": "markdown",
   "metadata": {},
   "source": [
    "#  Documentation"
   ]
  },
  {
   "cell_type": "markdown",
   "metadata": {},
   "source": [
    "## Objective\n",
    "This project aims to predict the placement activity of students knowing their marks in the 5 semesters, their gender, college, fields of study, and the value of the scholarship.\n",
    "\n",
    "Placement activity is the assignment of an employee to a job depending on the category of the society where he is assigned: \n",
    " - A: if the student works for a high rated company\n",
    " - C: if the student works for a medium rated company\n",
    "\n",
    "## Steps\n",
    "\n",
    "1. First we import data and used libraries( keras, sklearn, numpy, matplotlib, and pandas)\n",
    "\n",
    "2. Data preprocessing which includes:\n",
    "    *  Harmonize coding of Gender columns (F to Female, M to Male)\n",
    "    *  Create dummy variables for Gender female and male (Female column will take 1 if the student is female else 0)\n",
    "    * From college code, 4 dummy variable was created: encode college code values as integers then these integers were converted to dummy variables using one-hot encoding techniques with LabelEncoder functions from sklearn.preprocessing models \n",
    "    *  From Field_study, 4 dummy variable was created, with the same method as the college code\n",
    "\n",
    "\n",
    "\n",
    "3.  Normalization of features to values between 0 and 1 using MinMaxScaler function from sklearn.preprocessing models \n",
    "\n",
    "4.  Placement activity was encoded to dummy variables \n",
    "\n",
    "5. Build the deep learning model\n",
    "\n",
    "6. Use Keras Classifier for the training of the model \n",
    "\n",
    "7. Evaluate the model with k-Fold Cross-Validation\n",
    "\n",
    "8. Visualization of the repartition of placement activities based on other characteristics (Gender, Field of study, scholarship, college code)"
   ]
  },
  {
   "cell_type": "markdown",
   "metadata": {},
   "source": [
    "#  Import librairies"
   ]
  },
  {
   "cell_type": "code",
   "execution_count": 1,
   "metadata": {},
   "outputs": [],
   "source": [
    "#Import Tensorflow and Keras\n",
    "import tensorflow as tf\n",
    "from tensorflow import keras"
   ]
  },
  {
   "cell_type": "code",
   "execution_count": 2,
   "metadata": {},
   "outputs": [],
   "source": [
    "# Set seed numbers for reproductibilty of the results\n",
    "from numpy.random import seed\n",
    "seed(1)\n",
    "tf.random.set_seed(1)"
   ]
  },
  {
   "cell_type": "code",
   "execution_count": 3,
   "metadata": {},
   "outputs": [],
   "source": [
    "import pandas as pd\n",
    "import matplotlib.pyplot as plt\n",
    "import numpy as np"
   ]
  },
  {
   "cell_type": "code",
   "execution_count": 4,
   "metadata": {},
   "outputs": [],
   "source": [
    "from keras.models import Sequential\n",
    "from keras.layers import Dense\n",
    "from keras.wrappers.scikit_learn import KerasClassifier\n",
    "from keras.utils import np_utils\n",
    "from sklearn.model_selection import cross_val_score\n",
    "from sklearn.model_selection import KFold\n",
    "from sklearn.preprocessing import LabelEncoder\n",
    "from sklearn.preprocessing import MinMaxScaler\n",
    "from sklearn.pipeline import Pipeline"
   ]
  },
  {
   "cell_type": "markdown",
   "metadata": {},
   "source": [
    "# Import data "
   ]
  },
  {
   "cell_type": "code",
   "execution_count": 5,
   "metadata": {},
   "outputs": [],
   "source": [
    "data=pd.read_csv('data.csv',header=0, delimiter=\",\")"
   ]
  },
  {
   "cell_type": "code",
   "execution_count": 6,
   "metadata": {},
   "outputs": [
    {
     "data": {
      "text/html": [
       "<div>\n",
       "<style scoped>\n",
       "    .dataframe tbody tr th:only-of-type {\n",
       "        vertical-align: middle;\n",
       "    }\n",
       "\n",
       "    .dataframe tbody tr th {\n",
       "        vertical-align: top;\n",
       "    }\n",
       "\n",
       "    .dataframe thead th {\n",
       "        text-align: right;\n",
       "    }\n",
       "</style>\n",
       "<table border=\"1\" class=\"dataframe\">\n",
       "  <thead>\n",
       "    <tr style=\"text-align: right;\">\n",
       "      <th></th>\n",
       "      <th>1st</th>\n",
       "      <th>2nd</th>\n",
       "      <th>3rd</th>\n",
       "      <th>4th</th>\n",
       "      <th>5th</th>\n",
       "      <th>Placement_activity</th>\n",
       "      <th>Gender</th>\n",
       "      <th>college_code</th>\n",
       "      <th>Fields_of_Study</th>\n",
       "      <th>scholarship</th>\n",
       "    </tr>\n",
       "  </thead>\n",
       "  <tbody>\n",
       "    <tr>\n",
       "      <th>0</th>\n",
       "      <td>5.64</td>\n",
       "      <td>5.68</td>\n",
       "      <td>7.28</td>\n",
       "      <td>7.47</td>\n",
       "      <td>4.89</td>\n",
       "      <td>C</td>\n",
       "      <td>Male</td>\n",
       "      <td>241</td>\n",
       "      <td>Environmental Science and Health</td>\n",
       "      <td>0.00</td>\n",
       "    </tr>\n",
       "    <tr>\n",
       "      <th>1</th>\n",
       "      <td>3.05</td>\n",
       "      <td>4.87</td>\n",
       "      <td>5.82</td>\n",
       "      <td>4.76</td>\n",
       "      <td>7.75</td>\n",
       "      <td>D</td>\n",
       "      <td>Male</td>\n",
       "      <td>241</td>\n",
       "      <td>Art</td>\n",
       "      <td>0.00</td>\n",
       "    </tr>\n",
       "    <tr>\n",
       "      <th>2</th>\n",
       "      <td>7.27</td>\n",
       "      <td>7.91</td>\n",
       "      <td>7.84</td>\n",
       "      <td>8.60</td>\n",
       "      <td>6.53</td>\n",
       "      <td>E</td>\n",
       "      <td>F</td>\n",
       "      <td>115</td>\n",
       "      <td>Economics</td>\n",
       "      <td>0.00</td>\n",
       "    </tr>\n",
       "    <tr>\n",
       "      <th>3</th>\n",
       "      <td>8.60</td>\n",
       "      <td>8.08</td>\n",
       "      <td>7.91</td>\n",
       "      <td>7.20</td>\n",
       "      <td>6.66</td>\n",
       "      <td>A</td>\n",
       "      <td>Male</td>\n",
       "      <td>116</td>\n",
       "      <td>Environmental Science and Health</td>\n",
       "      <td>0.00</td>\n",
       "    </tr>\n",
       "    <tr>\n",
       "      <th>4</th>\n",
       "      <td>5.81</td>\n",
       "      <td>5.45</td>\n",
       "      <td>5.36</td>\n",
       "      <td>4.60</td>\n",
       "      <td>8.19</td>\n",
       "      <td>C</td>\n",
       "      <td>Female</td>\n",
       "      <td>116</td>\n",
       "      <td>Public Relations and Administration</td>\n",
       "      <td>1488.27</td>\n",
       "    </tr>\n",
       "  </tbody>\n",
       "</table>\n",
       "</div>"
      ],
      "text/plain": [
       "    1st   2nd   3rd   4th   5th Placement_activity  Gender  college_code  \\\n",
       "0  5.64  5.68  7.28  7.47  4.89                  C    Male           241   \n",
       "1  3.05  4.87  5.82  4.76  7.75                  D    Male           241   \n",
       "2  7.27  7.91  7.84  8.60  6.53                  E       F           115   \n",
       "3  8.60  8.08  7.91  7.20  6.66                  A    Male           116   \n",
       "4  5.81  5.45  5.36  4.60  8.19                  C  Female           116   \n",
       "\n",
       "                       Fields_of_Study  scholarship  \n",
       "0     Environmental Science and Health         0.00  \n",
       "1                                  Art         0.00  \n",
       "2                            Economics         0.00  \n",
       "3     Environmental Science and Health         0.00  \n",
       "4  Public Relations and Administration      1488.27  "
      ]
     },
     "execution_count": 6,
     "metadata": {},
     "output_type": "execute_result"
    }
   ],
   "source": [
    "data.head()"
   ]
  },
  {
   "cell_type": "code",
   "execution_count": 7,
   "metadata": {},
   "outputs": [
    {
     "data": {
      "text/plain": [
       "(10000, 10)"
      ]
     },
     "execution_count": 7,
     "metadata": {},
     "output_type": "execute_result"
    }
   ],
   "source": [
    "data.shape"
   ]
  },
  {
   "cell_type": "markdown",
   "metadata": {},
   "source": [
    "# Data Preprocessing"
   ]
  },
  {
   "cell_type": "markdown",
   "metadata": {},
   "source": [
    "#### Gender"
   ]
  },
  {
   "cell_type": "code",
   "execution_count": 8,
   "metadata": {},
   "outputs": [
    {
     "data": {
      "text/html": [
       "<div>\n",
       "<style scoped>\n",
       "    .dataframe tbody tr th:only-of-type {\n",
       "        vertical-align: middle;\n",
       "    }\n",
       "\n",
       "    .dataframe tbody tr th {\n",
       "        vertical-align: top;\n",
       "    }\n",
       "\n",
       "    .dataframe thead th {\n",
       "        text-align: right;\n",
       "    }\n",
       "</style>\n",
       "<table border=\"1\" class=\"dataframe\">\n",
       "  <thead>\n",
       "    <tr style=\"text-align: right;\">\n",
       "      <th></th>\n",
       "      <th>1st</th>\n",
       "      <th>2nd</th>\n",
       "      <th>3rd</th>\n",
       "      <th>4th</th>\n",
       "      <th>5th</th>\n",
       "      <th>Placement_activity</th>\n",
       "      <th>college_code</th>\n",
       "      <th>Fields_of_Study</th>\n",
       "      <th>scholarship</th>\n",
       "    </tr>\n",
       "    <tr>\n",
       "      <th>Gender</th>\n",
       "      <th></th>\n",
       "      <th></th>\n",
       "      <th></th>\n",
       "      <th></th>\n",
       "      <th></th>\n",
       "      <th></th>\n",
       "      <th></th>\n",
       "      <th></th>\n",
       "      <th></th>\n",
       "    </tr>\n",
       "  </thead>\n",
       "  <tbody>\n",
       "    <tr>\n",
       "      <th>F</th>\n",
       "      <td>2572</td>\n",
       "      <td>2572</td>\n",
       "      <td>2572</td>\n",
       "      <td>2572</td>\n",
       "      <td>2572</td>\n",
       "      <td>2572</td>\n",
       "      <td>2572</td>\n",
       "      <td>2572</td>\n",
       "      <td>2572</td>\n",
       "    </tr>\n",
       "    <tr>\n",
       "      <th>Female</th>\n",
       "      <td>2462</td>\n",
       "      <td>2462</td>\n",
       "      <td>2462</td>\n",
       "      <td>2462</td>\n",
       "      <td>2462</td>\n",
       "      <td>2462</td>\n",
       "      <td>2462</td>\n",
       "      <td>2462</td>\n",
       "      <td>2462</td>\n",
       "    </tr>\n",
       "    <tr>\n",
       "      <th>M</th>\n",
       "      <td>2452</td>\n",
       "      <td>2452</td>\n",
       "      <td>2452</td>\n",
       "      <td>2452</td>\n",
       "      <td>2452</td>\n",
       "      <td>2452</td>\n",
       "      <td>2452</td>\n",
       "      <td>2452</td>\n",
       "      <td>2452</td>\n",
       "    </tr>\n",
       "    <tr>\n",
       "      <th>Male</th>\n",
       "      <td>2514</td>\n",
       "      <td>2514</td>\n",
       "      <td>2514</td>\n",
       "      <td>2514</td>\n",
       "      <td>2514</td>\n",
       "      <td>2514</td>\n",
       "      <td>2514</td>\n",
       "      <td>2514</td>\n",
       "      <td>2514</td>\n",
       "    </tr>\n",
       "  </tbody>\n",
       "</table>\n",
       "</div>"
      ],
      "text/plain": [
       "         1st   2nd   3rd   4th   5th  Placement_activity  college_code  \\\n",
       "Gender                                                                   \n",
       "F       2572  2572  2572  2572  2572                2572          2572   \n",
       "Female  2462  2462  2462  2462  2462                2462          2462   \n",
       "M       2452  2452  2452  2452  2452                2452          2452   \n",
       "Male    2514  2514  2514  2514  2514                2514          2514   \n",
       "\n",
       "        Fields_of_Study  scholarship  \n",
       "Gender                                \n",
       "F                  2572         2572  \n",
       "Female             2462         2462  \n",
       "M                  2452         2452  \n",
       "Male               2514         2514  "
      ]
     },
     "execution_count": 8,
     "metadata": {},
     "output_type": "execute_result"
    }
   ],
   "source": [
    "# Aggregation by gender\n",
    "data.groupby('Gender').count()"
   ]
  },
  {
   "cell_type": "code",
   "execution_count": 9,
   "metadata": {},
   "outputs": [],
   "source": [
    "# Replace F and M by Female and Male\n",
    "data[\"Gender\"].replace({\"F\": \"Female\", \"M\": \"Male\"}, inplace=True)"
   ]
  },
  {
   "cell_type": "code",
   "execution_count": 10,
   "metadata": {},
   "outputs": [
    {
     "data": {
      "text/html": [
       "<div>\n",
       "<style scoped>\n",
       "    .dataframe tbody tr th:only-of-type {\n",
       "        vertical-align: middle;\n",
       "    }\n",
       "\n",
       "    .dataframe tbody tr th {\n",
       "        vertical-align: top;\n",
       "    }\n",
       "\n",
       "    .dataframe thead th {\n",
       "        text-align: right;\n",
       "    }\n",
       "</style>\n",
       "<table border=\"1\" class=\"dataframe\">\n",
       "  <thead>\n",
       "    <tr style=\"text-align: right;\">\n",
       "      <th></th>\n",
       "      <th>1st</th>\n",
       "      <th>2nd</th>\n",
       "      <th>3rd</th>\n",
       "      <th>4th</th>\n",
       "      <th>5th</th>\n",
       "      <th>Placement_activity</th>\n",
       "      <th>college_code</th>\n",
       "      <th>Fields_of_Study</th>\n",
       "      <th>scholarship</th>\n",
       "    </tr>\n",
       "    <tr>\n",
       "      <th>Gender</th>\n",
       "      <th></th>\n",
       "      <th></th>\n",
       "      <th></th>\n",
       "      <th></th>\n",
       "      <th></th>\n",
       "      <th></th>\n",
       "      <th></th>\n",
       "      <th></th>\n",
       "      <th></th>\n",
       "    </tr>\n",
       "  </thead>\n",
       "  <tbody>\n",
       "    <tr>\n",
       "      <th>Female</th>\n",
       "      <td>5034</td>\n",
       "      <td>5034</td>\n",
       "      <td>5034</td>\n",
       "      <td>5034</td>\n",
       "      <td>5034</td>\n",
       "      <td>5034</td>\n",
       "      <td>5034</td>\n",
       "      <td>5034</td>\n",
       "      <td>5034</td>\n",
       "    </tr>\n",
       "    <tr>\n",
       "      <th>Male</th>\n",
       "      <td>4966</td>\n",
       "      <td>4966</td>\n",
       "      <td>4966</td>\n",
       "      <td>4966</td>\n",
       "      <td>4966</td>\n",
       "      <td>4966</td>\n",
       "      <td>4966</td>\n",
       "      <td>4966</td>\n",
       "      <td>4966</td>\n",
       "    </tr>\n",
       "  </tbody>\n",
       "</table>\n",
       "</div>"
      ],
      "text/plain": [
       "         1st   2nd   3rd   4th   5th  Placement_activity  college_code  \\\n",
       "Gender                                                                   \n",
       "Female  5034  5034  5034  5034  5034                5034          5034   \n",
       "Male    4966  4966  4966  4966  4966                4966          4966   \n",
       "\n",
       "        Fields_of_Study  scholarship  \n",
       "Gender                                \n",
       "Female             5034         5034  \n",
       "Male               4966         4966  "
      ]
     },
     "execution_count": 10,
     "metadata": {},
     "output_type": "execute_result"
    }
   ],
   "source": [
    "data.groupby('Gender').count()"
   ]
  },
  {
   "cell_type": "markdown",
   "metadata": {},
   "source": [
    "#### College Code"
   ]
  },
  {
   "cell_type": "code",
   "execution_count": 11,
   "metadata": {},
   "outputs": [
    {
     "data": {
      "text/plain": [
       "<AxesSubplot:>"
      ]
     },
     "execution_count": 11,
     "metadata": {},
     "output_type": "execute_result"
    },
    {
     "data": {
      "image/png": "[encoded data removed]",
      "text/plain": [
       "<Figure size 432x288 with 1 Axes>"
      ]
     },
     "metadata": {
      "needs_background": "light"
     },
     "output_type": "display_data"
    }
   ],
   "source": [
    "data['college_code'].value_counts().plot(kind='bar')"
   ]
  },
  {
   "cell_type": "code",
   "execution_count": 12,
   "metadata": {},
   "outputs": [
    {
     "name": "stderr",
     "output_type": "stream",
     "text": [
      "C:\\Users\\yosra\\.conda\\envs\\tf\\lib\\site-packages\\sklearn\\utils\\validation.py:63: DataConversionWarning: A column-vector y was passed when a 1d array was expected. Please change the shape of y to (n_samples, ), for example using ravel().\n",
      "  return f(*args, **kwargs)\n"
     ]
    }
   ],
   "source": [
    "# encode college code values as integers\n",
    "college_code=data[['college_code']]\n",
    "encoder = LabelEncoder()\n",
    "encoder.fit(college_code)\n",
    "encoded_college_code = encoder.transform(college_code)\n",
    "# convert integers to dummy variables (i.e. one hot encoded)\n",
    "dummy_college_code = np_utils.to_categorical(encoded_college_code)"
   ]
  },
  {
   "cell_type": "code",
   "execution_count": 13,
   "metadata": {},
   "outputs": [
    {
     "data": {
      "text/plain": [
       "array([3, 3, 0, ..., 2, 2, 2], dtype=int64)"
      ]
     },
     "execution_count": 13,
     "metadata": {},
     "output_type": "execute_result"
    }
   ],
   "source": [
    "encoded_college_code"
   ]
  },
  {
   "cell_type": "code",
   "execution_count": 14,
   "metadata": {},
   "outputs": [
    {
     "data": {
      "text/plain": [
       "array([[0., 0., 0., 1.],\n",
       "       [0., 0., 0., 1.],\n",
       "       [1., 0., 0., 0.],\n",
       "       ...,\n",
       "       [0., 0., 1., 0.],\n",
       "       [0., 0., 1., 0.],\n",
       "       [0., 0., 1., 0.]], dtype=float32)"
      ]
     },
     "execution_count": 14,
     "metadata": {},
     "output_type": "execute_result"
    }
   ],
   "source": [
    "dummy_college_code"
   ]
  },
  {
   "cell_type": "code",
   "execution_count": 15,
   "metadata": {},
   "outputs": [],
   "source": [
    "df_college_code = pd.DataFrame(dummy_college_code,columns=['c1','c2','c3','c4'])"
   ]
  },
  {
   "cell_type": "code",
   "execution_count": 16,
   "metadata": {},
   "outputs": [],
   "source": [
    "data['college1']=df_college_code[['c1']]\n",
    "data['college2']=df_college_code[['c2']]\n",
    "data['college3']=df_college_code[['c3']]\n",
    "data['college4']=df_college_code[['c4']]"
   ]
  },
  {
   "cell_type": "markdown",
   "metadata": {},
   "source": [
    "#### Fields of Study"
   ]
  },
  {
   "cell_type": "code",
   "execution_count": 17,
   "metadata": {},
   "outputs": [
    {
     "data": {
      "text/plain": [
       "<AxesSubplot:>"
      ]
     },
     "execution_count": 17,
     "metadata": {},
     "output_type": "execute_result"
    },
    {
     "data": {
      "image/png": "[encoded data removed]",
      "text/plain": [
       "<Figure size 432x288 with 1 Axes>"
      ]
     },
     "metadata": {
      "needs_background": "light"
     },
     "output_type": "display_data"
    }
   ],
   "source": [
    "data['Fields_of_Study'].value_counts().plot(kind='bar')"
   ]
  },
  {
   "cell_type": "code",
   "execution_count": 18,
   "metadata": {},
   "outputs": [
    {
     "data": {
      "text/html": [
       "<div>\n",
       "<style scoped>\n",
       "    .dataframe tbody tr th:only-of-type {\n",
       "        vertical-align: middle;\n",
       "    }\n",
       "\n",
       "    .dataframe tbody tr th {\n",
       "        vertical-align: top;\n",
       "    }\n",
       "\n",
       "    .dataframe thead th {\n",
       "        text-align: right;\n",
       "    }\n",
       "</style>\n",
       "<table border=\"1\" class=\"dataframe\">\n",
       "  <thead>\n",
       "    <tr style=\"text-align: right;\">\n",
       "      <th></th>\n",
       "      <th>1st</th>\n",
       "      <th>2nd</th>\n",
       "      <th>3rd</th>\n",
       "      <th>4th</th>\n",
       "      <th>5th</th>\n",
       "      <th>Placement_activity</th>\n",
       "      <th>Gender</th>\n",
       "      <th>college_code</th>\n",
       "      <th>scholarship</th>\n",
       "      <th>college1</th>\n",
       "      <th>college2</th>\n",
       "      <th>college3</th>\n",
       "      <th>college4</th>\n",
       "    </tr>\n",
       "    <tr>\n",
       "      <th>Fields_of_Study</th>\n",
       "      <th></th>\n",
       "      <th></th>\n",
       "      <th></th>\n",
       "      <th></th>\n",
       "      <th></th>\n",
       "      <th></th>\n",
       "      <th></th>\n",
       "      <th></th>\n",
       "      <th></th>\n",
       "      <th></th>\n",
       "      <th></th>\n",
       "      <th></th>\n",
       "      <th></th>\n",
       "    </tr>\n",
       "  </thead>\n",
       "  <tbody>\n",
       "    <tr>\n",
       "      <th>Aeronautics and Aviation Science</th>\n",
       "      <td>1054</td>\n",
       "      <td>1054</td>\n",
       "      <td>1054</td>\n",
       "      <td>1054</td>\n",
       "      <td>1054</td>\n",
       "      <td>1054</td>\n",
       "      <td>1054</td>\n",
       "      <td>1054</td>\n",
       "      <td>1054</td>\n",
       "      <td>1054</td>\n",
       "      <td>1054</td>\n",
       "      <td>1054</td>\n",
       "      <td>1054</td>\n",
       "    </tr>\n",
       "    <tr>\n",
       "      <th>Art</th>\n",
       "      <td>969</td>\n",
       "      <td>969</td>\n",
       "      <td>969</td>\n",
       "      <td>969</td>\n",
       "      <td>969</td>\n",
       "      <td>969</td>\n",
       "      <td>969</td>\n",
       "      <td>969</td>\n",
       "      <td>969</td>\n",
       "      <td>969</td>\n",
       "      <td>969</td>\n",
       "      <td>969</td>\n",
       "      <td>969</td>\n",
       "    </tr>\n",
       "    <tr>\n",
       "      <th>Economics</th>\n",
       "      <td>1879</td>\n",
       "      <td>1879</td>\n",
       "      <td>1879</td>\n",
       "      <td>1879</td>\n",
       "      <td>1879</td>\n",
       "      <td>1879</td>\n",
       "      <td>1879</td>\n",
       "      <td>1879</td>\n",
       "      <td>1879</td>\n",
       "      <td>1879</td>\n",
       "      <td>1879</td>\n",
       "      <td>1879</td>\n",
       "      <td>1879</td>\n",
       "    </tr>\n",
       "    <tr>\n",
       "      <th>Engineering</th>\n",
       "      <td>2552</td>\n",
       "      <td>2552</td>\n",
       "      <td>2552</td>\n",
       "      <td>2552</td>\n",
       "      <td>2552</td>\n",
       "      <td>2552</td>\n",
       "      <td>2552</td>\n",
       "      <td>2552</td>\n",
       "      <td>2552</td>\n",
       "      <td>2552</td>\n",
       "      <td>2552</td>\n",
       "      <td>2552</td>\n",
       "      <td>2552</td>\n",
       "    </tr>\n",
       "    <tr>\n",
       "      <th>Environmental Science and Health</th>\n",
       "      <td>2379</td>\n",
       "      <td>2379</td>\n",
       "      <td>2379</td>\n",
       "      <td>2379</td>\n",
       "      <td>2379</td>\n",
       "      <td>2379</td>\n",
       "      <td>2379</td>\n",
       "      <td>2379</td>\n",
       "      <td>2379</td>\n",
       "      <td>2379</td>\n",
       "      <td>2379</td>\n",
       "      <td>2379</td>\n",
       "      <td>2379</td>\n",
       "    </tr>\n",
       "    <tr>\n",
       "      <th>Public Relations and Administration</th>\n",
       "      <td>1167</td>\n",
       "      <td>1167</td>\n",
       "      <td>1167</td>\n",
       "      <td>1167</td>\n",
       "      <td>1167</td>\n",
       "      <td>1167</td>\n",
       "      <td>1167</td>\n",
       "      <td>1167</td>\n",
       "      <td>1167</td>\n",
       "      <td>1167</td>\n",
       "      <td>1167</td>\n",
       "      <td>1167</td>\n",
       "      <td>1167</td>\n",
       "    </tr>\n",
       "  </tbody>\n",
       "</table>\n",
       "</div>"
      ],
      "text/plain": [
       "                                      1st   2nd   3rd   4th   5th  \\\n",
       "Fields_of_Study                                                     \n",
       "Aeronautics and Aviation Science     1054  1054  1054  1054  1054   \n",
       "Art                                   969   969   969   969   969   \n",
       "Economics                            1879  1879  1879  1879  1879   \n",
       "Engineering                          2552  2552  2552  2552  2552   \n",
       "Environmental Science and Health     2379  2379  2379  2379  2379   \n",
       "Public Relations and Administration  1167  1167  1167  1167  1167   \n",
       "\n",
       "                                     Placement_activity  Gender  college_code  \\\n",
       "Fields_of_Study                                                                 \n",
       "Aeronautics and Aviation Science                   1054    1054          1054   \n",
       "Art                                                 969     969           969   \n",
       "Economics                                          1879    1879          1879   \n",
       "Engineering                                        2552    2552          2552   \n",
       "Environmental Science and Health                   2379    2379          2379   \n",
       "Public Relations and Administration                1167    1167          1167   \n",
       "\n",
       "                                     scholarship  college1  college2  \\\n",
       "Fields_of_Study                                                        \n",
       "Aeronautics and Aviation Science            1054      1054      1054   \n",
       "Art                                          969       969       969   \n",
       "Economics                                   1879      1879      1879   \n",
       "Engineering                                 2552      2552      2552   \n",
       "Environmental Science and Health            2379      2379      2379   \n",
       "Public Relations and Administration         1167      1167      1167   \n",
       "\n",
       "                                     college3  college4  \n",
       "Fields_of_Study                                          \n",
       "Aeronautics and Aviation Science         1054      1054  \n",
       "Art                                       969       969  \n",
       "Economics                                1879      1879  \n",
       "Engineering                              2552      2552  \n",
       "Environmental Science and Health         2379      2379  \n",
       "Public Relations and Administration      1167      1167  "
      ]
     },
     "execution_count": 18,
     "metadata": {},
     "output_type": "execute_result"
    }
   ],
   "source": [
    "# Aggregation by Subject code\n",
    "data.groupby('Fields_of_Study').count()"
   ]
  },
  {
   "cell_type": "code",
   "execution_count": 19,
   "metadata": {},
   "outputs": [
    {
     "name": "stderr",
     "output_type": "stream",
     "text": [
      "C:\\Users\\yosra\\.conda\\envs\\tf\\lib\\site-packages\\sklearn\\utils\\validation.py:63: DataConversionWarning: A column-vector y was passed when a 1d array was expected. Please change the shape of y to (n_samples, ), for example using ravel().\n",
      "  return f(*args, **kwargs)\n"
     ]
    }
   ],
   "source": [
    "# encode college code values as integers\n",
    "Fields_of_Study=data[['Fields_of_Study']]\n",
    "encoder = LabelEncoder()\n",
    "encoder.fit(Fields_of_Study)\n",
    "encoded_Fields_of_Study = encoder.transform(Fields_of_Study)\n",
    "# convert integers to dummy variables (i.e. one hot encoded)\n",
    "dummy_Fields_of_Study = np_utils.to_categorical(encoded_Fields_of_Study)\n",
    "df_Fields_of_Study = pd.DataFrame(dummy_Fields_of_Study,columns=['AAS','Art','Economics','Engineering','ESH','PRA'])\n",
    "# Create new varaibles \n",
    "data['AAS']=df_Fields_of_Study[['AAS']]\n",
    "data['Art']=df_Fields_of_Study[['Art']]\n",
    "data['Economics']=df_Fields_of_Study[['Economics']]\n",
    "data['Engineering']=df_Fields_of_Study[['Engineering']]\n",
    "data['ESH']=df_Fields_of_Study[['ESH']]\n",
    "data['PRA']=df_Fields_of_Study[['PRA']]"
   ]
  },
  {
   "cell_type": "markdown",
   "metadata": {},
   "source": [
    "#### Gender varaible"
   ]
  },
  {
   "cell_type": "code",
   "execution_count": 20,
   "metadata": {},
   "outputs": [
    {
     "data": {
      "text/plain": [
       "<AxesSubplot:>"
      ]
     },
     "execution_count": 20,
     "metadata": {},
     "output_type": "execute_result"
    },
    {
     "data": {
      "image/png": "[encoded data removed]",
      "text/plain": [
       "<Figure size 432x288 with 1 Axes>"
      ]
     },
     "metadata": {
      "needs_background": "light"
     },
     "output_type": "display_data"
    }
   ],
   "source": [
    "data['Gender'].value_counts().plot(kind='bar')"
   ]
  },
  {
   "cell_type": "code",
   "execution_count": 21,
   "metadata": {},
   "outputs": [],
   "source": [
    "#Create dummy varaible for gender\n",
    "#Female column takes 1 if gender is female else it takes 0 \n",
    "#Male column  takes 1 if gender is male else it takes 0 \n",
    "\n",
    "data[\"Female\"]=data[\"Gender\"]\n",
    "data[\"Female\"].replace({\"Female\": 1, \"Male\": 0}, inplace=True)\n",
    "\n",
    "data[\"Male\"]=data[\"Gender\"]\n",
    "data[\"Male\"].replace({\"Male\": 1, \"Female\": 0}, inplace=True)"
   ]
  },
  {
   "cell_type": "code",
   "execution_count": 22,
   "metadata": {},
   "outputs": [
    {
     "data": {
      "text/plain": [
       "Female\n",
       "0    4966\n",
       "1    5034\n",
       "Name: Gender, dtype: int64"
      ]
     },
     "execution_count": 22,
     "metadata": {},
     "output_type": "execute_result"
    }
   ],
   "source": [
    "data.groupby('Female').count()['Gender']"
   ]
  },
  {
   "cell_type": "markdown",
   "metadata": {},
   "source": [
    "### Select data columns"
   ]
  },
  {
   "cell_type": "code",
   "execution_count": 23,
   "metadata": {},
   "outputs": [],
   "source": [
    "data2=data[['1st','2nd','3rd','4th','5th','college1','college2','college3','college4','Female','scholarship','AAS','Art','Economics','Engineering','ESH','PRA','Placement_activity']]"
   ]
  },
  {
   "cell_type": "code",
   "execution_count": 24,
   "metadata": {},
   "outputs": [
    {
     "data": {
      "text/html": [
       "<div>\n",
       "<style scoped>\n",
       "    .dataframe tbody tr th:only-of-type {\n",
       "        vertical-align: middle;\n",
       "    }\n",
       "\n",
       "    .dataframe tbody tr th {\n",
       "        vertical-align: top;\n",
       "    }\n",
       "\n",
       "    .dataframe thead th {\n",
       "        text-align: right;\n",
       "    }\n",
       "</style>\n",
       "<table border=\"1\" class=\"dataframe\">\n",
       "  <thead>\n",
       "    <tr style=\"text-align: right;\">\n",
       "      <th></th>\n",
       "      <th>1st</th>\n",
       "      <th>2nd</th>\n",
       "      <th>3rd</th>\n",
       "      <th>4th</th>\n",
       "      <th>5th</th>\n",
       "      <th>college1</th>\n",
       "      <th>college2</th>\n",
       "      <th>college3</th>\n",
       "      <th>college4</th>\n",
       "      <th>Female</th>\n",
       "      <th>scholarship</th>\n",
       "      <th>AAS</th>\n",
       "      <th>Art</th>\n",
       "      <th>Economics</th>\n",
       "      <th>Engineering</th>\n",
       "      <th>ESH</th>\n",
       "      <th>PRA</th>\n",
       "    </tr>\n",
       "  </thead>\n",
       "  <tbody>\n",
       "    <tr>\n",
       "      <th>count</th>\n",
       "      <td>10000.000000</td>\n",
       "      <td>10000.000000</td>\n",
       "      <td>10000.000000</td>\n",
       "      <td>10000.000000</td>\n",
       "      <td>10000.000000</td>\n",
       "      <td>10000.00000</td>\n",
       "      <td>10000.000000</td>\n",
       "      <td>10000.000000</td>\n",
       "      <td>10000.000000</td>\n",
       "      <td>10000.000000</td>\n",
       "      <td>10000.000000</td>\n",
       "      <td>10000.000000</td>\n",
       "      <td>10000.000000</td>\n",
       "      <td>10000.000000</td>\n",
       "      <td>10000.000000</td>\n",
       "      <td>10000.000000</td>\n",
       "      <td>10000.000000</td>\n",
       "    </tr>\n",
       "    <tr>\n",
       "      <th>mean</th>\n",
       "      <td>5.943053</td>\n",
       "      <td>5.750360</td>\n",
       "      <td>6.077147</td>\n",
       "      <td>6.281625</td>\n",
       "      <td>6.811393</td>\n",
       "      <td>0.24480</td>\n",
       "      <td>0.245800</td>\n",
       "      <td>0.260800</td>\n",
       "      <td>0.248600</td>\n",
       "      <td>0.503400</td>\n",
       "      <td>2278.693755</td>\n",
       "      <td>0.105400</td>\n",
       "      <td>0.096900</td>\n",
       "      <td>0.187900</td>\n",
       "      <td>0.255200</td>\n",
       "      <td>0.237900</td>\n",
       "      <td>0.116700</td>\n",
       "    </tr>\n",
       "    <tr>\n",
       "      <th>std</th>\n",
       "      <td>1.761993</td>\n",
       "      <td>1.438323</td>\n",
       "      <td>1.511760</td>\n",
       "      <td>1.599145</td>\n",
       "      <td>1.643991</td>\n",
       "      <td>0.42999</td>\n",
       "      <td>0.430582</td>\n",
       "      <td>0.439093</td>\n",
       "      <td>0.432223</td>\n",
       "      <td>0.500013</td>\n",
       "      <td>4234.727342</td>\n",
       "      <td>0.307083</td>\n",
       "      <td>0.295836</td>\n",
       "      <td>0.390652</td>\n",
       "      <td>0.435995</td>\n",
       "      <td>0.425819</td>\n",
       "      <td>0.321079</td>\n",
       "    </tr>\n",
       "    <tr>\n",
       "      <th>min</th>\n",
       "      <td>2.890000</td>\n",
       "      <td>3.250000</td>\n",
       "      <td>3.480000</td>\n",
       "      <td>3.500000</td>\n",
       "      <td>4.010000</td>\n",
       "      <td>0.00000</td>\n",
       "      <td>0.000000</td>\n",
       "      <td>0.000000</td>\n",
       "      <td>0.000000</td>\n",
       "      <td>0.000000</td>\n",
       "      <td>0.000000</td>\n",
       "      <td>0.000000</td>\n",
       "      <td>0.000000</td>\n",
       "      <td>0.000000</td>\n",
       "      <td>0.000000</td>\n",
       "      <td>0.000000</td>\n",
       "      <td>0.000000</td>\n",
       "    </tr>\n",
       "    <tr>\n",
       "      <th>25%</th>\n",
       "      <td>4.410000</td>\n",
       "      <td>4.520000</td>\n",
       "      <td>4.770000</td>\n",
       "      <td>4.900000</td>\n",
       "      <td>5.380000</td>\n",
       "      <td>0.00000</td>\n",
       "      <td>0.000000</td>\n",
       "      <td>0.000000</td>\n",
       "      <td>0.000000</td>\n",
       "      <td>0.000000</td>\n",
       "      <td>0.000000</td>\n",
       "      <td>0.000000</td>\n",
       "      <td>0.000000</td>\n",
       "      <td>0.000000</td>\n",
       "      <td>0.000000</td>\n",
       "      <td>0.000000</td>\n",
       "      <td>0.000000</td>\n",
       "    </tr>\n",
       "    <tr>\n",
       "      <th>50%</th>\n",
       "      <td>5.950000</td>\n",
       "      <td>5.730000</td>\n",
       "      <td>6.070000</td>\n",
       "      <td>6.300000</td>\n",
       "      <td>6.810000</td>\n",
       "      <td>0.00000</td>\n",
       "      <td>0.000000</td>\n",
       "      <td>0.000000</td>\n",
       "      <td>0.000000</td>\n",
       "      <td>1.000000</td>\n",
       "      <td>0.000000</td>\n",
       "      <td>0.000000</td>\n",
       "      <td>0.000000</td>\n",
       "      <td>0.000000</td>\n",
       "      <td>0.000000</td>\n",
       "      <td>0.000000</td>\n",
       "      <td>0.000000</td>\n",
       "    </tr>\n",
       "    <tr>\n",
       "      <th>75%</th>\n",
       "      <td>7.450000</td>\n",
       "      <td>6.990000</td>\n",
       "      <td>7.390000</td>\n",
       "      <td>7.670000</td>\n",
       "      <td>8.220000</td>\n",
       "      <td>0.00000</td>\n",
       "      <td>0.000000</td>\n",
       "      <td>1.000000</td>\n",
       "      <td>0.000000</td>\n",
       "      <td>1.000000</td>\n",
       "      <td>2511.700000</td>\n",
       "      <td>0.000000</td>\n",
       "      <td>0.000000</td>\n",
       "      <td>0.000000</td>\n",
       "      <td>1.000000</td>\n",
       "      <td>0.000000</td>\n",
       "      <td>0.000000</td>\n",
       "    </tr>\n",
       "    <tr>\n",
       "      <th>max</th>\n",
       "      <td>9.000000</td>\n",
       "      <td>8.250000</td>\n",
       "      <td>8.690000</td>\n",
       "      <td>9.030000</td>\n",
       "      <td>9.700000</td>\n",
       "      <td>1.00000</td>\n",
       "      <td>1.000000</td>\n",
       "      <td>1.000000</td>\n",
       "      <td>1.000000</td>\n",
       "      <td>1.000000</td>\n",
       "      <td>15324.540000</td>\n",
       "      <td>1.000000</td>\n",
       "      <td>1.000000</td>\n",
       "      <td>1.000000</td>\n",
       "      <td>1.000000</td>\n",
       "      <td>1.000000</td>\n",
       "      <td>1.000000</td>\n",
       "    </tr>\n",
       "  </tbody>\n",
       "</table>\n",
       "</div>"
      ],
      "text/plain": [
       "                1st           2nd           3rd           4th           5th  \\\n",
       "count  10000.000000  10000.000000  10000.000000  10000.000000  10000.000000   \n",
       "mean       5.943053      5.750360      6.077147      6.281625      6.811393   \n",
       "std        1.761993      1.438323      1.511760      1.599145      1.643991   \n",
       "min        2.890000      3.250000      3.480000      3.500000      4.010000   \n",
       "25%        4.410000      4.520000      4.770000      4.900000      5.380000   \n",
       "50%        5.950000      5.730000      6.070000      6.300000      6.810000   \n",
       "75%        7.450000      6.990000      7.390000      7.670000      8.220000   \n",
       "max        9.000000      8.250000      8.690000      9.030000      9.700000   \n",
       "\n",
       "          college1      college2      college3      college4        Female  \\\n",
       "count  10000.00000  10000.000000  10000.000000  10000.000000  10000.000000   \n",
       "mean       0.24480      0.245800      0.260800      0.248600      0.503400   \n",
       "std        0.42999      0.430582      0.439093      0.432223      0.500013   \n",
       "min        0.00000      0.000000      0.000000      0.000000      0.000000   \n",
       "25%        0.00000      0.000000      0.000000      0.000000      0.000000   \n",
       "50%        0.00000      0.000000      0.000000      0.000000      1.000000   \n",
       "75%        0.00000      0.000000      1.000000      0.000000      1.000000   \n",
       "max        1.00000      1.000000      1.000000      1.000000      1.000000   \n",
       "\n",
       "        scholarship           AAS           Art     Economics   Engineering  \\\n",
       "count  10000.000000  10000.000000  10000.000000  10000.000000  10000.000000   \n",
       "mean    2278.693755      0.105400      0.096900      0.187900      0.255200   \n",
       "std     4234.727342      0.307083      0.295836      0.390652      0.435995   \n",
       "min        0.000000      0.000000      0.000000      0.000000      0.000000   \n",
       "25%        0.000000      0.000000      0.000000      0.000000      0.000000   \n",
       "50%        0.000000      0.000000      0.000000      0.000000      0.000000   \n",
       "75%     2511.700000      0.000000      0.000000      0.000000      1.000000   \n",
       "max    15324.540000      1.000000      1.000000      1.000000      1.000000   \n",
       "\n",
       "                ESH           PRA  \n",
       "count  10000.000000  10000.000000  \n",
       "mean       0.237900      0.116700  \n",
       "std        0.425819      0.321079  \n",
       "min        0.000000      0.000000  \n",
       "25%        0.000000      0.000000  \n",
       "50%        0.000000      0.000000  \n",
       "75%        0.000000      0.000000  \n",
       "max        1.000000      1.000000  "
      ]
     },
     "execution_count": 24,
     "metadata": {},
     "output_type": "execute_result"
    }
   ],
   "source": [
    "data2.describe()"
   ]
  },
  {
   "cell_type": "code",
   "execution_count": 25,
   "metadata": {},
   "outputs": [
    {
     "data": {
      "text/html": [
       "<div>\n",
       "<style scoped>\n",
       "    .dataframe tbody tr th:only-of-type {\n",
       "        vertical-align: middle;\n",
       "    }\n",
       "\n",
       "    .dataframe tbody tr th {\n",
       "        vertical-align: top;\n",
       "    }\n",
       "\n",
       "    .dataframe thead th {\n",
       "        text-align: right;\n",
       "    }\n",
       "</style>\n",
       "<table border=\"1\" class=\"dataframe\">\n",
       "  <thead>\n",
       "    <tr style=\"text-align: right;\">\n",
       "      <th></th>\n",
       "      <th>1st</th>\n",
       "      <th>2nd</th>\n",
       "      <th>3rd</th>\n",
       "      <th>4th</th>\n",
       "      <th>5th</th>\n",
       "      <th>college1</th>\n",
       "      <th>college2</th>\n",
       "      <th>college3</th>\n",
       "      <th>college4</th>\n",
       "      <th>Female</th>\n",
       "      <th>scholarship</th>\n",
       "      <th>AAS</th>\n",
       "      <th>Art</th>\n",
       "      <th>Economics</th>\n",
       "      <th>Engineering</th>\n",
       "      <th>ESH</th>\n",
       "      <th>PRA</th>\n",
       "      <th>Placement_activity</th>\n",
       "    </tr>\n",
       "  </thead>\n",
       "  <tbody>\n",
       "    <tr>\n",
       "      <th>0</th>\n",
       "      <td>5.64</td>\n",
       "      <td>5.68</td>\n",
       "      <td>7.28</td>\n",
       "      <td>7.47</td>\n",
       "      <td>4.89</td>\n",
       "      <td>0.0</td>\n",
       "      <td>0.0</td>\n",
       "      <td>0.0</td>\n",
       "      <td>1.0</td>\n",
       "      <td>0</td>\n",
       "      <td>0.0</td>\n",
       "      <td>0.0</td>\n",
       "      <td>0.0</td>\n",
       "      <td>0.0</td>\n",
       "      <td>0.0</td>\n",
       "      <td>1.0</td>\n",
       "      <td>0.0</td>\n",
       "      <td>C</td>\n",
       "    </tr>\n",
       "    <tr>\n",
       "      <th>1</th>\n",
       "      <td>3.05</td>\n",
       "      <td>4.87</td>\n",
       "      <td>5.82</td>\n",
       "      <td>4.76</td>\n",
       "      <td>7.75</td>\n",
       "      <td>0.0</td>\n",
       "      <td>0.0</td>\n",
       "      <td>0.0</td>\n",
       "      <td>1.0</td>\n",
       "      <td>0</td>\n",
       "      <td>0.0</td>\n",
       "      <td>0.0</td>\n",
       "      <td>1.0</td>\n",
       "      <td>0.0</td>\n",
       "      <td>0.0</td>\n",
       "      <td>0.0</td>\n",
       "      <td>0.0</td>\n",
       "      <td>D</td>\n",
       "    </tr>\n",
       "  </tbody>\n",
       "</table>\n",
       "</div>"
      ],
      "text/plain": [
       "    1st   2nd   3rd   4th   5th  college1  college2  college3  college4  \\\n",
       "0  5.64  5.68  7.28  7.47  4.89       0.0       0.0       0.0       1.0   \n",
       "1  3.05  4.87  5.82  4.76  7.75       0.0       0.0       0.0       1.0   \n",
       "\n",
       "   Female  scholarship  AAS  Art  Economics  Engineering  ESH  PRA  \\\n",
       "0       0          0.0  0.0  0.0        0.0          0.0  1.0  0.0   \n",
       "1       0          0.0  0.0  1.0        0.0          0.0  0.0  0.0   \n",
       "\n",
       "  Placement_activity  \n",
       "0                  C  \n",
       "1                  D  "
      ]
     },
     "execution_count": 25,
     "metadata": {},
     "output_type": "execute_result"
    }
   ],
   "source": [
    "data2.head(2)"
   ]
  },
  {
   "cell_type": "markdown",
   "metadata": {},
   "source": [
    "#### Split the data into input (X) and output (y) variables"
   ]
  },
  {
   "cell_type": "code",
   "execution_count": 29,
   "metadata": {},
   "outputs": [],
   "source": [
    "\n",
    "X = data2[['1st','2nd','3rd','4th','5th','college1','college2','college3','college4','Female','scholarship','AAS','Art','Economics','Engineering','ESH','PRA']] #,'College Code'\n",
    "y = data2[['Placement_activity']]"
   ]
  },
  {
   "cell_type": "code",
   "execution_count": 30,
   "metadata": {},
   "outputs": [
    {
     "name": "stdout",
     "output_type": "stream",
     "text": [
      "17\n"
     ]
    }
   ],
   "source": [
    "# dimention of the input (columns number)\n",
    "n_dim=X.shape[1]\n",
    "print(n_dim)"
   ]
  },
  {
   "cell_type": "code",
   "execution_count": 31,
   "metadata": {},
   "outputs": [
    {
     "data": {
      "text/html": [
       "<div>\n",
       "<style scoped>\n",
       "    .dataframe tbody tr th:only-of-type {\n",
       "        vertical-align: middle;\n",
       "    }\n",
       "\n",
       "    .dataframe tbody tr th {\n",
       "        vertical-align: top;\n",
       "    }\n",
       "\n",
       "    .dataframe thead th {\n",
       "        text-align: right;\n",
       "    }\n",
       "</style>\n",
       "<table border=\"1\" class=\"dataframe\">\n",
       "  <thead>\n",
       "    <tr style=\"text-align: right;\">\n",
       "      <th></th>\n",
       "      <th>1st</th>\n",
       "      <th>2nd</th>\n",
       "      <th>3rd</th>\n",
       "      <th>4th</th>\n",
       "      <th>5th</th>\n",
       "      <th>college1</th>\n",
       "      <th>college2</th>\n",
       "      <th>college3</th>\n",
       "      <th>college4</th>\n",
       "      <th>Female</th>\n",
       "      <th>scholarship</th>\n",
       "      <th>AAS</th>\n",
       "      <th>Art</th>\n",
       "      <th>Economics</th>\n",
       "      <th>Engineering</th>\n",
       "      <th>ESH</th>\n",
       "      <th>PRA</th>\n",
       "    </tr>\n",
       "  </thead>\n",
       "  <tbody>\n",
       "    <tr>\n",
       "      <th>0</th>\n",
       "      <td>5.64</td>\n",
       "      <td>5.68</td>\n",
       "      <td>7.28</td>\n",
       "      <td>7.47</td>\n",
       "      <td>4.89</td>\n",
       "      <td>0.0</td>\n",
       "      <td>0.0</td>\n",
       "      <td>0.0</td>\n",
       "      <td>1.0</td>\n",
       "      <td>0</td>\n",
       "      <td>0.0</td>\n",
       "      <td>0.0</td>\n",
       "      <td>0.0</td>\n",
       "      <td>0.0</td>\n",
       "      <td>0.0</td>\n",
       "      <td>1.0</td>\n",
       "      <td>0.0</td>\n",
       "    </tr>\n",
       "    <tr>\n",
       "      <th>1</th>\n",
       "      <td>3.05</td>\n",
       "      <td>4.87</td>\n",
       "      <td>5.82</td>\n",
       "      <td>4.76</td>\n",
       "      <td>7.75</td>\n",
       "      <td>0.0</td>\n",
       "      <td>0.0</td>\n",
       "      <td>0.0</td>\n",
       "      <td>1.0</td>\n",
       "      <td>0</td>\n",
       "      <td>0.0</td>\n",
       "      <td>0.0</td>\n",
       "      <td>1.0</td>\n",
       "      <td>0.0</td>\n",
       "      <td>0.0</td>\n",
       "      <td>0.0</td>\n",
       "      <td>0.0</td>\n",
       "    </tr>\n",
       "  </tbody>\n",
       "</table>\n",
       "</div>"
      ],
      "text/plain": [
       "    1st   2nd   3rd   4th   5th  college1  college2  college3  college4  \\\n",
       "0  5.64  5.68  7.28  7.47  4.89       0.0       0.0       0.0       1.0   \n",
       "1  3.05  4.87  5.82  4.76  7.75       0.0       0.0       0.0       1.0   \n",
       "\n",
       "   Female  scholarship  AAS  Art  Economics  Engineering  ESH  PRA  \n",
       "0       0          0.0  0.0  0.0        0.0          0.0  1.0  0.0  \n",
       "1       0          0.0  0.0  1.0        0.0          0.0  0.0  0.0  "
      ]
     },
     "execution_count": 31,
     "metadata": {},
     "output_type": "execute_result"
    }
   ],
   "source": [
    "X.head(2)"
   ]
  },
  {
   "cell_type": "code",
   "execution_count": 32,
   "metadata": {},
   "outputs": [],
   "source": [
    "# Normalize features within range 0 (minimum) and 1 (maximum)\n",
    "scaler = MinMaxScaler(feature_range=(0, 1))\n",
    "X = scaler.fit_transform(X)\n",
    "X = pd.DataFrame(X)"
   ]
  },
  {
   "cell_type": "markdown",
   "metadata": {},
   "source": [
    "### Encode The Output Variable"
   ]
  },
  {
   "cell_type": "markdown",
   "metadata": {},
   "source": [
    "The output variable is a categorical variable that takes [A,B,C,D,E,F] as values"
   ]
  },
  {
   "cell_type": "code",
   "execution_count": 33,
   "metadata": {},
   "outputs": [
    {
     "name": "stderr",
     "output_type": "stream",
     "text": [
      "C:\\Users\\yosra\\.conda\\envs\\tf\\lib\\site-packages\\sklearn\\utils\\validation.py:63: DataConversionWarning: A column-vector y was passed when a 1d array was expected. Please change the shape of y to (n_samples, ), for example using ravel().\n",
      "  return f(*args, **kwargs)\n"
     ]
    }
   ],
   "source": [
    "# Encode class values as integers\n",
    "encoder = LabelEncoder()\n",
    "encoder.fit(y)\n",
    "encoded_Y = encoder.transform(y)\n",
    "# convert integers to dummy variables (i.e. one hot encoded)\n",
    "dummy_y = np_utils.to_categorical(encoded_Y)"
   ]
  },
  {
   "cell_type": "code",
   "execution_count": 34,
   "metadata": {},
   "outputs": [
    {
     "data": {
      "text/plain": [
       "array([[0., 0., 1., 0., 0.],\n",
       "       [0., 0., 0., 1., 0.],\n",
       "       [0., 0., 0., 0., 1.],\n",
       "       ...,\n",
       "       [0., 0., 0., 0., 1.],\n",
       "       [0., 1., 0., 0., 0.],\n",
       "       [0., 0., 1., 0., 0.]], dtype=float32)"
      ]
     },
     "execution_count": 34,
     "metadata": {},
     "output_type": "execute_result"
    }
   ],
   "source": [
    "dummy_y"
   ]
  },
  {
   "cell_type": "code",
   "execution_count": 35,
   "metadata": {},
   "outputs": [
    {
     "name": "stdout",
     "output_type": "stream",
     "text": [
      "5\n"
     ]
    }
   ],
   "source": [
    "# Number of classes\n",
    "n_class=dummy_y.shape[1]\n",
    "print(n_class)"
   ]
  },
  {
   "cell_type": "code",
   "execution_count": 36,
   "metadata": {},
   "outputs": [
    {
     "data": {
      "text/plain": [
       "array([[0., 0., 1., 0., 0.],\n",
       "       [0., 0., 0., 1., 0.],\n",
       "       [0., 0., 0., 0., 1.],\n",
       "       [1., 0., 0., 0., 0.]], dtype=float32)"
      ]
     },
     "execution_count": 36,
     "metadata": {},
     "output_type": "execute_result"
    }
   ],
   "source": [
    "dummy_y[0:4]"
   ]
  },
  {
   "cell_type": "markdown",
   "metadata": {},
   "source": [
    "# Modeling"
   ]
  },
  {
   "cell_type": "code",
   "execution_count": 38,
   "metadata": {},
   "outputs": [],
   "source": [
    "seed_value=124"
   ]
  },
  {
   "cell_type": "markdown",
   "metadata": {},
   "source": [
    "The Neural Network Model can be summarized as:\n",
    "\n",
    "[n_dim inputs] -> [ hidden nodes] -> [5 outputs]\n",
    "\n",
    "The “softmax” activation function should be used in the output layer. This is to ensure the output values are in the range of 0 and 1 and may be used as predicted probabilities.\n",
    "\n",
    "Finally, the network uses the efficient Adam gradient descent optimization algorithm with a logarithmic loss function, which is called “categorical_crossentropy” in Keras."
   ]
  },
  {
   "cell_type": "code",
   "execution_count": 39,
   "metadata": {},
   "outputs": [
    {
     "data": {
      "text/plain": [
       "(17, 5)"
      ]
     },
     "execution_count": 39,
     "metadata": {},
     "output_type": "execute_result"
    }
   ],
   "source": [
    "n_dim,n_class"
   ]
  },
  {
   "cell_type": "code",
   "execution_count": 37,
   "metadata": {},
   "outputs": [],
   "source": [
    "# First define baseline model. Then use it in Keras Classifier for the training\n",
    "def baseline_model():\n",
    "    # Create model here\n",
    "    model = Sequential()\n",
    "    model.add(Dense(15, input_dim = n_dim, activation = 'relu')) # Rectified Linear Unit Activation Function\n",
    "    model.add(Dense(15, activation = 'relu'))\n",
    "    model.add(Dense(n_class, activation = 'softmax')) # Softmax for multi-class classification\n",
    "    # Compile model here\n",
    "    model.compile(loss = 'categorical_crossentropy', optimizer = 'adam', metrics = ['accuracy'])\n",
    "    return model"
   ]
  },
  {
   "cell_type": "code",
   "execution_count": 38,
   "metadata": {},
   "outputs": [],
   "source": [
    "model=baseline_model()\n",
    "y_prob = model.predict(X) \n",
    "y_classes = y_prob.argmax(axis=-1)"
   ]
  },
  {
   "cell_type": "code",
   "execution_count": 43,
   "metadata": {},
   "outputs": [],
   "source": [
    "conditions = [y_classes==0, y_classes==1,  y_classes==2,  y_classes==3, y_classes==4]\n",
    "choices = [\"A\",\"B\",\"C\",\"D\",\"E\"]\n",
    "predicted_class = np.select(conditions, choices)"
   ]
  },
  {
   "cell_type": "code",
   "execution_count": 40,
   "metadata": {},
   "outputs": [],
   "source": [
    "estimator = KerasClassifier(build_fn = baseline_model, epochs = 200, batch_size = 10, verbose = 0)"
   ]
  },
  {
   "cell_type": "markdown",
   "metadata": {},
   "source": [
    "###  Evaluate The Model with k-Fold Cross Validation"
   ]
  },
  {
   "cell_type": "code",
   "execution_count": 45,
   "metadata": {},
   "outputs": [],
   "source": [
    "kfold = KFold(n_splits = 5, shuffle = True, random_state = 123)"
   ]
  },
  {
   "cell_type": "code",
   "execution_count": 46,
   "metadata": {},
   "outputs": [
    {
     "name": "stdout",
     "output_type": "stream",
     "text": [
      "Result: 30.77% (0.76%)\n"
     ]
    }
   ],
   "source": [
    "# Object to describe the result\n",
    "results = cross_val_score(estimator, X, dummy_y, cv = kfold)\n",
    "# Result\n",
    "print(\"Result: %.2f%% (%.2f%%)\" % (results.mean()*100, results.std()*100))"
   ]
  },
  {
   "cell_type": "code",
   "execution_count": 52,
   "metadata": {},
   "outputs": [
    {
     "data": {
      "text/plain": [
       "array([0.29350001, 0.31299999, 0.3145    , 0.30649999, 0.31099999])"
      ]
     },
     "execution_count": 52,
     "metadata": {},
     "output_type": "execute_result"
    }
   ],
   "source": [
    "results"
   ]
  },
  {
   "cell_type": "markdown",
   "metadata": {},
   "source": [
    "### Visualization of the predicted placement activity based on other variables"
   ]
  },
  {
   "cell_type": "code",
   "execution_count": 58,
   "metadata": {},
   "outputs": [],
   "source": [
    "import seaborn as sns"
   ]
  },
  {
   "cell_type": "code",
   "execution_count": 53,
   "metadata": {},
   "outputs": [],
   "source": [
    "data['predicted_Placement_activity']=predicted_class"
   ]
  },
  {
   "cell_type": "markdown",
   "metadata": {},
   "source": [
    "### Repartition of the Placement activity By Gender"
   ]
  },
  {
   "cell_type": "code",
   "execution_count": 54,
   "metadata": {},
   "outputs": [],
   "source": [
    "Repartition_Placement_activityByGender = data.groupby('Gender')['predicted_Placement_activity'].value_counts(normalize=True)\n",
    "Repartition_Placement_activityByGender = Repartition_Placement_activityByGender.mul(100).rename('Percent').reset_index()"
   ]
  },
  {
   "cell_type": "code",
   "execution_count": 55,
   "metadata": {},
   "outputs": [
    {
     "data": {
      "text/html": [
       "<div>\n",
       "<style scoped>\n",
       "    .dataframe tbody tr th:only-of-type {\n",
       "        vertical-align: middle;\n",
       "    }\n",
       "\n",
       "    .dataframe tbody tr th {\n",
       "        vertical-align: top;\n",
       "    }\n",
       "\n",
       "    .dataframe thead th {\n",
       "        text-align: right;\n",
       "    }\n",
       "</style>\n",
       "<table border=\"1\" class=\"dataframe\">\n",
       "  <thead>\n",
       "    <tr style=\"text-align: right;\">\n",
       "      <th></th>\n",
       "      <th></th>\n",
       "      <th>1st</th>\n",
       "      <th>2nd</th>\n",
       "      <th>3rd</th>\n",
       "      <th>4th</th>\n",
       "      <th>5th</th>\n",
       "      <th>Placement_activity</th>\n",
       "      <th>college_code</th>\n",
       "      <th>Fields_of_Study</th>\n",
       "      <th>scholarship</th>\n",
       "      <th>college1</th>\n",
       "      <th>...</th>\n",
       "      <th>college3</th>\n",
       "      <th>college4</th>\n",
       "      <th>AAS</th>\n",
       "      <th>Art</th>\n",
       "      <th>Economics</th>\n",
       "      <th>Engineering</th>\n",
       "      <th>ESH</th>\n",
       "      <th>PRA</th>\n",
       "      <th>Female</th>\n",
       "      <th>Male</th>\n",
       "    </tr>\n",
       "    <tr>\n",
       "      <th>Gender</th>\n",
       "      <th>predicted_Placement_activity</th>\n",
       "      <th></th>\n",
       "      <th></th>\n",
       "      <th></th>\n",
       "      <th></th>\n",
       "      <th></th>\n",
       "      <th></th>\n",
       "      <th></th>\n",
       "      <th></th>\n",
       "      <th></th>\n",
       "      <th></th>\n",
       "      <th></th>\n",
       "      <th></th>\n",
       "      <th></th>\n",
       "      <th></th>\n",
       "      <th></th>\n",
       "      <th></th>\n",
       "      <th></th>\n",
       "      <th></th>\n",
       "      <th></th>\n",
       "      <th></th>\n",
       "      <th></th>\n",
       "    </tr>\n",
       "  </thead>\n",
       "  <tbody>\n",
       "    <tr>\n",
       "      <th rowspan=\"4\" valign=\"top\">Female</th>\n",
       "      <th>A</th>\n",
       "      <td>637</td>\n",
       "      <td>637</td>\n",
       "      <td>637</td>\n",
       "      <td>637</td>\n",
       "      <td>637</td>\n",
       "      <td>637</td>\n",
       "      <td>637</td>\n",
       "      <td>637</td>\n",
       "      <td>637</td>\n",
       "      <td>637</td>\n",
       "      <td>...</td>\n",
       "      <td>637</td>\n",
       "      <td>637</td>\n",
       "      <td>637</td>\n",
       "      <td>637</td>\n",
       "      <td>637</td>\n",
       "      <td>637</td>\n",
       "      <td>637</td>\n",
       "      <td>637</td>\n",
       "      <td>637</td>\n",
       "      <td>637</td>\n",
       "    </tr>\n",
       "    <tr>\n",
       "      <th>B</th>\n",
       "      <td>2</td>\n",
       "      <td>2</td>\n",
       "      <td>2</td>\n",
       "      <td>2</td>\n",
       "      <td>2</td>\n",
       "      <td>2</td>\n",
       "      <td>2</td>\n",
       "      <td>2</td>\n",
       "      <td>2</td>\n",
       "      <td>2</td>\n",
       "      <td>...</td>\n",
       "      <td>2</td>\n",
       "      <td>2</td>\n",
       "      <td>2</td>\n",
       "      <td>2</td>\n",
       "      <td>2</td>\n",
       "      <td>2</td>\n",
       "      <td>2</td>\n",
       "      <td>2</td>\n",
       "      <td>2</td>\n",
       "      <td>2</td>\n",
       "    </tr>\n",
       "    <tr>\n",
       "      <th>C</th>\n",
       "      <td>4359</td>\n",
       "      <td>4359</td>\n",
       "      <td>4359</td>\n",
       "      <td>4359</td>\n",
       "      <td>4359</td>\n",
       "      <td>4359</td>\n",
       "      <td>4359</td>\n",
       "      <td>4359</td>\n",
       "      <td>4359</td>\n",
       "      <td>4359</td>\n",
       "      <td>...</td>\n",
       "      <td>4359</td>\n",
       "      <td>4359</td>\n",
       "      <td>4359</td>\n",
       "      <td>4359</td>\n",
       "      <td>4359</td>\n",
       "      <td>4359</td>\n",
       "      <td>4359</td>\n",
       "      <td>4359</td>\n",
       "      <td>4359</td>\n",
       "      <td>4359</td>\n",
       "    </tr>\n",
       "    <tr>\n",
       "      <th>D</th>\n",
       "      <td>36</td>\n",
       "      <td>36</td>\n",
       "      <td>36</td>\n",
       "      <td>36</td>\n",
       "      <td>36</td>\n",
       "      <td>36</td>\n",
       "      <td>36</td>\n",
       "      <td>36</td>\n",
       "      <td>36</td>\n",
       "      <td>36</td>\n",
       "      <td>...</td>\n",
       "      <td>36</td>\n",
       "      <td>36</td>\n",
       "      <td>36</td>\n",
       "      <td>36</td>\n",
       "      <td>36</td>\n",
       "      <td>36</td>\n",
       "      <td>36</td>\n",
       "      <td>36</td>\n",
       "      <td>36</td>\n",
       "      <td>36</td>\n",
       "    </tr>\n",
       "    <tr>\n",
       "      <th rowspan=\"3\" valign=\"top\">Male</th>\n",
       "      <th>A</th>\n",
       "      <td>383</td>\n",
       "      <td>383</td>\n",
       "      <td>383</td>\n",
       "      <td>383</td>\n",
       "      <td>383</td>\n",
       "      <td>383</td>\n",
       "      <td>383</td>\n",
       "      <td>383</td>\n",
       "      <td>383</td>\n",
       "      <td>383</td>\n",
       "      <td>...</td>\n",
       "      <td>383</td>\n",
       "      <td>383</td>\n",
       "      <td>383</td>\n",
       "      <td>383</td>\n",
       "      <td>383</td>\n",
       "      <td>383</td>\n",
       "      <td>383</td>\n",
       "      <td>383</td>\n",
       "      <td>383</td>\n",
       "      <td>383</td>\n",
       "    </tr>\n",
       "    <tr>\n",
       "      <th>C</th>\n",
       "      <td>4574</td>\n",
       "      <td>4574</td>\n",
       "      <td>4574</td>\n",
       "      <td>4574</td>\n",
       "      <td>4574</td>\n",
       "      <td>4574</td>\n",
       "      <td>4574</td>\n",
       "      <td>4574</td>\n",
       "      <td>4574</td>\n",
       "      <td>4574</td>\n",
       "      <td>...</td>\n",
       "      <td>4574</td>\n",
       "      <td>4574</td>\n",
       "      <td>4574</td>\n",
       "      <td>4574</td>\n",
       "      <td>4574</td>\n",
       "      <td>4574</td>\n",
       "      <td>4574</td>\n",
       "      <td>4574</td>\n",
       "      <td>4574</td>\n",
       "      <td>4574</td>\n",
       "    </tr>\n",
       "    <tr>\n",
       "      <th>D</th>\n",
       "      <td>9</td>\n",
       "      <td>9</td>\n",
       "      <td>9</td>\n",
       "      <td>9</td>\n",
       "      <td>9</td>\n",
       "      <td>9</td>\n",
       "      <td>9</td>\n",
       "      <td>9</td>\n",
       "      <td>9</td>\n",
       "      <td>9</td>\n",
       "      <td>...</td>\n",
       "      <td>9</td>\n",
       "      <td>9</td>\n",
       "      <td>9</td>\n",
       "      <td>9</td>\n",
       "      <td>9</td>\n",
       "      <td>9</td>\n",
       "      <td>9</td>\n",
       "      <td>9</td>\n",
       "      <td>9</td>\n",
       "      <td>9</td>\n",
       "    </tr>\n",
       "  </tbody>\n",
       "</table>\n",
       "<p>7 rows × 21 columns</p>\n",
       "</div>"
      ],
      "text/plain": [
       "                                      1st   2nd   3rd   4th   5th  \\\n",
       "Gender predicted_Placement_activity                                 \n",
       "Female A                              637   637   637   637   637   \n",
       "       B                                2     2     2     2     2   \n",
       "       C                             4359  4359  4359  4359  4359   \n",
       "       D                               36    36    36    36    36   \n",
       "Male   A                              383   383   383   383   383   \n",
       "       C                             4574  4574  4574  4574  4574   \n",
       "       D                                9     9     9     9     9   \n",
       "\n",
       "                                     Placement_activity  college_code  \\\n",
       "Gender predicted_Placement_activity                                     \n",
       "Female A                                            637           637   \n",
       "       B                                              2             2   \n",
       "       C                                           4359          4359   \n",
       "       D                                             36            36   \n",
       "Male   A                                            383           383   \n",
       "       C                                           4574          4574   \n",
       "       D                                              9             9   \n",
       "\n",
       "                                     Fields_of_Study  scholarship  college1  \\\n",
       "Gender predicted_Placement_activity                                           \n",
       "Female A                                         637          637       637   \n",
       "       B                                           2            2         2   \n",
       "       C                                        4359         4359      4359   \n",
       "       D                                          36           36        36   \n",
       "Male   A                                         383          383       383   \n",
       "       C                                        4574         4574      4574   \n",
       "       D                                           9            9         9   \n",
       "\n",
       "                                     ...  college3  college4   AAS   Art  \\\n",
       "Gender predicted_Placement_activity  ...                                   \n",
       "Female A                             ...       637       637   637   637   \n",
       "       B                             ...         2         2     2     2   \n",
       "       C                             ...      4359      4359  4359  4359   \n",
       "       D                             ...        36        36    36    36   \n",
       "Male   A                             ...       383       383   383   383   \n",
       "       C                             ...      4574      4574  4574  4574   \n",
       "       D                             ...         9         9     9     9   \n",
       "\n",
       "                                     Economics  Engineering   ESH   PRA  \\\n",
       "Gender predicted_Placement_activity                                       \n",
       "Female A                                   637          637   637   637   \n",
       "       B                                     2            2     2     2   \n",
       "       C                                  4359         4359  4359  4359   \n",
       "       D                                    36           36    36    36   \n",
       "Male   A                                   383          383   383   383   \n",
       "       C                                  4574         4574  4574  4574   \n",
       "       D                                     9            9     9     9   \n",
       "\n",
       "                                     Female  Male  \n",
       "Gender predicted_Placement_activity                \n",
       "Female A                                637   637  \n",
       "       B                                  2     2  \n",
       "       C                               4359  4359  \n",
       "       D                                 36    36  \n",
       "Male   A                                383   383  \n",
       "       C                               4574  4574  \n",
       "       D                                  9     9  \n",
       "\n",
       "[7 rows x 21 columns]"
      ]
     },
     "execution_count": 55,
     "metadata": {},
     "output_type": "execute_result"
    }
   ],
   "source": [
    "data.groupby(['Gender','predicted_Placement_activity']).count()"
   ]
  },
  {
   "cell_type": "code",
   "execution_count": 56,
   "metadata": {},
   "outputs": [
    {
     "data": {
      "text/html": [
       "<div>\n",
       "<style scoped>\n",
       "    .dataframe tbody tr th:only-of-type {\n",
       "        vertical-align: middle;\n",
       "    }\n",
       "\n",
       "    .dataframe tbody tr th {\n",
       "        vertical-align: top;\n",
       "    }\n",
       "\n",
       "    .dataframe thead th {\n",
       "        text-align: right;\n",
       "    }\n",
       "</style>\n",
       "<table border=\"1\" class=\"dataframe\">\n",
       "  <thead>\n",
       "    <tr style=\"text-align: right;\">\n",
       "      <th></th>\n",
       "      <th>Gender</th>\n",
       "      <th>predicted_Placement_activity</th>\n",
       "      <th>Percent</th>\n",
       "    </tr>\n",
       "  </thead>\n",
       "  <tbody>\n",
       "    <tr>\n",
       "      <th>0</th>\n",
       "      <td>Female</td>\n",
       "      <td>C</td>\n",
       "      <td>86.591180</td>\n",
       "    </tr>\n",
       "    <tr>\n",
       "      <th>1</th>\n",
       "      <td>Female</td>\n",
       "      <td>A</td>\n",
       "      <td>12.653953</td>\n",
       "    </tr>\n",
       "    <tr>\n",
       "      <th>2</th>\n",
       "      <td>Female</td>\n",
       "      <td>D</td>\n",
       "      <td>0.715137</td>\n",
       "    </tr>\n",
       "    <tr>\n",
       "      <th>3</th>\n",
       "      <td>Female</td>\n",
       "      <td>B</td>\n",
       "      <td>0.039730</td>\n",
       "    </tr>\n",
       "    <tr>\n",
       "      <th>4</th>\n",
       "      <td>Male</td>\n",
       "      <td>C</td>\n",
       "      <td>92.106323</td>\n",
       "    </tr>\n",
       "    <tr>\n",
       "      <th>5</th>\n",
       "      <td>Male</td>\n",
       "      <td>A</td>\n",
       "      <td>7.712445</td>\n",
       "    </tr>\n",
       "    <tr>\n",
       "      <th>6</th>\n",
       "      <td>Male</td>\n",
       "      <td>D</td>\n",
       "      <td>0.181232</td>\n",
       "    </tr>\n",
       "  </tbody>\n",
       "</table>\n",
       "</div>"
      ],
      "text/plain": [
       "   Gender predicted_Placement_activity    Percent\n",
       "0  Female                            C  86.591180\n",
       "1  Female                            A  12.653953\n",
       "2  Female                            D   0.715137\n",
       "3  Female                            B   0.039730\n",
       "4    Male                            C  92.106323\n",
       "5    Male                            A   7.712445\n",
       "6    Male                            D   0.181232"
      ]
     },
     "execution_count": 56,
     "metadata": {},
     "output_type": "execute_result"
    }
   ],
   "source": [
    "Repartition_Placement_activityByGender"
   ]
  },
  {
   "cell_type": "code",
   "execution_count": 59,
   "metadata": {},
   "outputs": [
    {
     "name": "stderr",
     "output_type": "stream",
     "text": [
      "posx and posy should be finite values\n",
      "posx and posy should be finite values\n"
     ]
    },
    {
     "data": {
      "image/png": "[encoded data removed]",
      "text/plain": [
       "<Figure size 514.875x360 with 1 Axes>"
      ]
     },
     "metadata": {
      "needs_background": "light"
     },
     "output_type": "display_data"
    }
   ],
   "source": [
    "g = sns.catplot(x='Gender', y='Percent', hue='predicted_Placement_activity', kind='bar', data=Repartition_Placement_activityByGender)\n",
    "m=max(Repartition_Placement_activityByGender.Percent)+5\n",
    "g.ax.set_ylim(0,m)\n",
    "for p in g.ax.patches:\n",
    "    txt = str(p.get_height().round(1)) + '%'\n",
    "    txt_x = p.get_x()\n",
    "    txt_y = p.get_height()\n",
    "    g.ax.text(txt_x,txt_y,txt)\n",
    "\n"
   ]
  },
  {
   "cell_type": "code",
   "execution_count": 60,
   "metadata": {},
   "outputs": [
    {
     "name": "stderr",
     "output_type": "stream",
     "text": [
      "posx and posy should be finite values\n",
      "posx and posy should be finite values\n"
     ]
    },
    {
     "data": {
      "image/png": "[encoded data removed]",
      "text/plain": [
       "<Figure size 432.125x360 with 1 Axes>"
      ]
     },
     "metadata": {
      "needs_background": "light"
     },
     "output_type": "display_data"
    }
   ],
   "source": [
    "Repartition_GenderByPlacement_activity = data.groupby('predicted_Placement_activity')['Gender'].value_counts(normalize=True)\n",
    "Repartition_GenderByPlacement_activity = Repartition_GenderByPlacement_activity.mul(100).rename('Percent').reset_index()\n",
    "g = sns.catplot(x='predicted_Placement_activity', y='Percent', hue='Gender', kind='bar', data=Repartition_GenderByPlacement_activity)\n",
    "m=max(Repartition_GenderByPlacement_activity.Percent)+5\n",
    "g.ax.set_ylim(0,m)\n",
    "for p in g.ax.patches:\n",
    "    txt = str(p.get_height().round(1)) + '%'\n",
    "    txt_x = p.get_x()\n",
    "    txt_y = p.get_height()\n",
    "    g.ax.text(txt_x,txt_y,txt)"
   ]
  },
  {
   "cell_type": "markdown",
   "metadata": {},
   "source": [
    "### Repartition of the Placement activity By college code"
   ]
  },
  {
   "cell_type": "code",
   "execution_count": 61,
   "metadata": {},
   "outputs": [
    {
     "data": {
      "text/plain": [
       "(0.0, 105.0)"
      ]
     },
     "execution_count": 61,
     "metadata": {},
     "output_type": "execute_result"
    },
    {
     "data": {
      "image/png": "[encoded data removed]",
      "text/plain": [
       "<Figure size 432.875x360 with 1 Axes>"
      ]
     },
     "metadata": {
      "needs_background": "light"
     },
     "output_type": "display_data"
    }
   ],
   "source": [
    "Repartition_college_codeByPlacement_activity = data.groupby('predicted_Placement_activity')['college_code'].value_counts(normalize=True)\n",
    "Repartition_college_codeByPlacement_activity = Repartition_college_codeByPlacement_activity.mul(100).rename('Percent').reset_index()\n",
    "g = sns.catplot(x='predicted_Placement_activity', y='Percent', hue='college_code', kind='bar', data=Repartition_college_codeByPlacement_activity)\n",
    "m=max(Repartition_college_codeByPlacement_activity.Percent)+5\n",
    "g.ax.set_ylim(0,m)\n"
   ]
  },
  {
   "cell_type": "code",
   "execution_count": 62,
   "metadata": {},
   "outputs": [
    {
     "data": {
      "text/html": [
       "<div>\n",
       "<style scoped>\n",
       "    .dataframe tbody tr th:only-of-type {\n",
       "        vertical-align: middle;\n",
       "    }\n",
       "\n",
       "    .dataframe tbody tr th {\n",
       "        vertical-align: top;\n",
       "    }\n",
       "\n",
       "    .dataframe thead th {\n",
       "        text-align: right;\n",
       "    }\n",
       "</style>\n",
       "<table border=\"1\" class=\"dataframe\">\n",
       "  <thead>\n",
       "    <tr style=\"text-align: right;\">\n",
       "      <th></th>\n",
       "      <th>predicted_Placement_activity</th>\n",
       "      <th>college_code</th>\n",
       "      <th>Percent</th>\n",
       "    </tr>\n",
       "  </thead>\n",
       "  <tbody>\n",
       "    <tr>\n",
       "      <th>0</th>\n",
       "      <td>A</td>\n",
       "      <td>165</td>\n",
       "      <td>49.705882</td>\n",
       "    </tr>\n",
       "    <tr>\n",
       "      <th>1</th>\n",
       "      <td>A</td>\n",
       "      <td>116</td>\n",
       "      <td>26.274510</td>\n",
       "    </tr>\n",
       "    <tr>\n",
       "      <th>2</th>\n",
       "      <td>A</td>\n",
       "      <td>241</td>\n",
       "      <td>15.000000</td>\n",
       "    </tr>\n",
       "    <tr>\n",
       "      <th>3</th>\n",
       "      <td>A</td>\n",
       "      <td>115</td>\n",
       "      <td>9.019608</td>\n",
       "    </tr>\n",
       "    <tr>\n",
       "      <th>4</th>\n",
       "      <td>B</td>\n",
       "      <td>165</td>\n",
       "      <td>100.000000</td>\n",
       "    </tr>\n",
       "    <tr>\n",
       "      <th>5</th>\n",
       "      <td>C</td>\n",
       "      <td>115</td>\n",
       "      <td>26.262174</td>\n",
       "    </tr>\n",
       "    <tr>\n",
       "      <th>6</th>\n",
       "      <td>C</td>\n",
       "      <td>241</td>\n",
       "      <td>26.105452</td>\n",
       "    </tr>\n",
       "    <tr>\n",
       "      <th>7</th>\n",
       "      <td>C</td>\n",
       "      <td>116</td>\n",
       "      <td>24.515840</td>\n",
       "    </tr>\n",
       "    <tr>\n",
       "      <th>8</th>\n",
       "      <td>C</td>\n",
       "      <td>165</td>\n",
       "      <td>23.116534</td>\n",
       "    </tr>\n",
       "    <tr>\n",
       "      <th>9</th>\n",
       "      <td>D</td>\n",
       "      <td>165</td>\n",
       "      <td>75.555556</td>\n",
       "    </tr>\n",
       "    <tr>\n",
       "      <th>10</th>\n",
       "      <td>D</td>\n",
       "      <td>115</td>\n",
       "      <td>22.222222</td>\n",
       "    </tr>\n",
       "    <tr>\n",
       "      <th>11</th>\n",
       "      <td>D</td>\n",
       "      <td>241</td>\n",
       "      <td>2.222222</td>\n",
       "    </tr>\n",
       "  </tbody>\n",
       "</table>\n",
       "</div>"
      ],
      "text/plain": [
       "   predicted_Placement_activity  college_code     Percent\n",
       "0                             A           165   49.705882\n",
       "1                             A           116   26.274510\n",
       "2                             A           241   15.000000\n",
       "3                             A           115    9.019608\n",
       "4                             B           165  100.000000\n",
       "5                             C           115   26.262174\n",
       "6                             C           241   26.105452\n",
       "7                             C           116   24.515840\n",
       "8                             C           165   23.116534\n",
       "9                             D           165   75.555556\n",
       "10                            D           115   22.222222\n",
       "11                            D           241    2.222222"
      ]
     },
     "execution_count": 62,
     "metadata": {},
     "output_type": "execute_result"
    }
   ],
   "source": [
    "Repartition_college_codeByPlacement_activity"
   ]
  },
  {
   "cell_type": "markdown",
   "metadata": {},
   "source": [
    "### Repartition of the Placement activity By Fields of Study"
   ]
  },
  {
   "cell_type": "code",
   "execution_count": 63,
   "metadata": {},
   "outputs": [
    {
     "data": {
      "text/plain": [
       "(0.0, 105.0)"
      ]
     },
     "execution_count": 63,
     "metadata": {},
     "output_type": "execute_result"
    },
    {
     "data": {
      "image/png": "[encoded data removed]",
      "text/plain": [
       "<Figure size 573.25x360 with 1 Axes>"
      ]
     },
     "metadata": {
      "needs_background": "light"
     },
     "output_type": "display_data"
    }
   ],
   "source": [
    "Repartition_Fields_of_StudyByPlacement_activity = data.groupby('predicted_Placement_activity')['Fields_of_Study'].value_counts(normalize=True)\n",
    "Repartition_Fields_of_StudyByPlacement_activity = Repartition_Fields_of_StudyByPlacement_activity.mul(100).rename('Percent').reset_index()\n",
    "g = sns.catplot(x='predicted_Placement_activity', y='Percent', hue='Fields_of_Study', kind='bar', data=Repartition_Fields_of_StudyByPlacement_activity)\n",
    "m=max(Repartition_Fields_of_StudyByPlacement_activity.Percent)+5\n",
    "g.ax.set_ylim(0,m)\n"
   ]
  },
  {
   "cell_type": "code",
   "execution_count": 64,
   "metadata": {},
   "outputs": [],
   "source": [
    "### Repartition of the Placement activity By scholarship"
   ]
  },
  {
   "cell_type": "code",
   "execution_count": 65,
   "metadata": {},
   "outputs": [],
   "source": [
    "#Create a new variable scholarshipB (Boolean scholarship) that takes 1 if the scholarship is different of zero else 0\n",
    "data['scholarshipB']=list(map(int,data['scholarship']!=0))"
   ]
  },
  {
   "cell_type": "code",
   "execution_count": 66,
   "metadata": {},
   "outputs": [],
   "source": [
    "Repartition_scholarshipByPlacement_activity = data.groupby('predicted_Placement_activity')['scholarshipB'].value_counts(normalize=True)\n",
    "Repartition_scholarshipByPlacement_activity = Repartition_scholarshipByPlacement_activity.mul(100).rename('Percent').reset_index()\n"
   ]
  },
  {
   "cell_type": "code",
   "execution_count": 67,
   "metadata": {},
   "outputs": [
    {
     "data": {
      "text/html": [
       "<div>\n",
       "<style scoped>\n",
       "    .dataframe tbody tr th:only-of-type {\n",
       "        vertical-align: middle;\n",
       "    }\n",
       "\n",
       "    .dataframe tbody tr th {\n",
       "        vertical-align: top;\n",
       "    }\n",
       "\n",
       "    .dataframe thead th {\n",
       "        text-align: right;\n",
       "    }\n",
       "</style>\n",
       "<table border=\"1\" class=\"dataframe\">\n",
       "  <thead>\n",
       "    <tr style=\"text-align: right;\">\n",
       "      <th></th>\n",
       "      <th>predicted_Placement_activity</th>\n",
       "      <th>scholarshipB</th>\n",
       "      <th>Percent</th>\n",
       "    </tr>\n",
       "  </thead>\n",
       "  <tbody>\n",
       "    <tr>\n",
       "      <th>0</th>\n",
       "      <td>A</td>\n",
       "      <td>1</td>\n",
       "      <td>61.470588</td>\n",
       "    </tr>\n",
       "    <tr>\n",
       "      <th>1</th>\n",
       "      <td>A</td>\n",
       "      <td>0</td>\n",
       "      <td>38.529412</td>\n",
       "    </tr>\n",
       "    <tr>\n",
       "      <th>2</th>\n",
       "      <td>B</td>\n",
       "      <td>0</td>\n",
       "      <td>100.000000</td>\n",
       "    </tr>\n",
       "    <tr>\n",
       "      <th>3</th>\n",
       "      <td>C</td>\n",
       "      <td>0</td>\n",
       "      <td>73.592298</td>\n",
       "    </tr>\n",
       "    <tr>\n",
       "      <th>4</th>\n",
       "      <td>C</td>\n",
       "      <td>1</td>\n",
       "      <td>26.407702</td>\n",
       "    </tr>\n",
       "    <tr>\n",
       "      <th>5</th>\n",
       "      <td>D</td>\n",
       "      <td>0</td>\n",
       "      <td>68.888889</td>\n",
       "    </tr>\n",
       "    <tr>\n",
       "      <th>6</th>\n",
       "      <td>D</td>\n",
       "      <td>1</td>\n",
       "      <td>31.111111</td>\n",
       "    </tr>\n",
       "  </tbody>\n",
       "</table>\n",
       "</div>"
      ],
      "text/plain": [
       "  predicted_Placement_activity  scholarshipB     Percent\n",
       "0                            A             1   61.470588\n",
       "1                            A             0   38.529412\n",
       "2                            B             0  100.000000\n",
       "3                            C             0   73.592298\n",
       "4                            C             1   26.407702\n",
       "5                            D             0   68.888889\n",
       "6                            D             1   31.111111"
      ]
     },
     "execution_count": 67,
     "metadata": {},
     "output_type": "execute_result"
    }
   ],
   "source": [
    "Repartition_scholarshipByPlacement_activity"
   ]
  },
  {
   "cell_type": "code",
   "execution_count": 68,
   "metadata": {},
   "outputs": [
    {
     "data": {
      "text/plain": [
       "(0.0, 105.0)"
      ]
     },
     "execution_count": 68,
     "metadata": {},
     "output_type": "execute_result"
    },
    {
     "data": {
      "image/png": "[encoded data removed]",
      "text/plain": [
       "<Figure size 431.875x360 with 1 Axes>"
      ]
     },
     "metadata": {
      "needs_background": "light"
     },
     "output_type": "display_data"
    }
   ],
   "source": [
    "g = sns.catplot(x='predicted_Placement_activity', y='Percent', hue='scholarshipB', kind='bar', data=Repartition_scholarshipByPlacement_activity)\n",
    "m=max(Repartition_scholarshipByPlacement_activity.Percent)+5\n",
    "g.ax.set_ylim(0,m)"
   ]
  },
  {
   "cell_type": "code",
   "execution_count": null,
   "metadata": {},
   "outputs": [],
   "source": []
  }
 ],
 "metadata": {
  "kernelspec": {
   "display_name": "Python 3",
   "language": "python",
   "name": "python3"
  },
  "language_info": {
   "codemirror_mode": {
    "name": "ipython",
    "version": 3
   },
   "file_extension": ".py",
   "mimetype": "text/x-python",
   "name": "python",
   "nbconvert_exporter": "python",
   "pygments_lexer": "ipython3",
   "version": "3.8.10"
  }
 },
 "nbformat": 4,
 "nbformat_minor": 4
}
